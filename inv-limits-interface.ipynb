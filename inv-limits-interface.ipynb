{
 "cells": [
  {
   "cell_type": "markdown",
   "metadata": {},
   "source": [
    "# Inverse Limit Interactive Visualizer"
   ]
  },
  {
   "cell_type": "markdown",
   "metadata": {},
   "source": [
    "Created by Alan Bertl in 2020."
   ]
  },
  {
   "cell_type": "code",
   "execution_count": 1,
   "metadata": {
    "tags": [
     "hide-input"
    ]
   },
   "outputs": [],
   "source": [
    "%load_ext autoreload\n",
    "%autoreload 2\n",
    "%matplotlib notebook"
   ]
  },
  {
   "cell_type": "code",
   "execution_count": 2,
   "metadata": {},
   "outputs": [
    {
     "data": {
      "text/html": [
       "<script>\n",
       "    // AUTORUN ALL CELLS ON NOTEBOOK-LOAD!\n",
       "    require(\n",
       "        ['base/js/namespace', 'jquery'], \n",
       "        function(jupyter, $) {\n",
       "            $(jupyter.events).on(\"kernel_ready.Kernel\", function () {\n",
       "                console.log(\"Auto-running all cells-below...\");\n",
       "                jupyter.actions.call('jupyter-notebook:run-all-cells-below');\n",
       "            });\n",
       "        }\n",
       "    );\n",
       "</script>\n"
      ],
      "text/plain": [
       "<IPython.core.display.HTML object>"
      ]
     },
     "metadata": {},
     "output_type": "display_data"
    }
   ],
   "source": [
    "%%html\n",
    "<script>\n",
    "    // AUTORUN ALL CELLS ON NOTEBOOK-LOAD!\n",
    "    require(\n",
    "        ['base/js/namespace', 'jquery'], \n",
    "        function(jupyter, $) {\n",
    "            $(jupyter.events).on(\"kernel_ready.Kernel\", function () {\n",
    "                console.log(\"Auto-running all cells-below...\");\n",
    "                jupyter.actions.call('jupyter-notebook:run-all-cells-below');\n",
    "            });\n",
    "        }\n",
    "    );\n",
    "</script>"
   ]
  },
  {
   "cell_type": "code",
   "execution_count": 3,
   "metadata": {},
   "outputs": [
    {
     "data": {
      "text/html": [
       "<script>\n",
       "    code_show=true; \n",
       "    function code_toggle() {\n",
       "        if (code_show){\n",
       "        $('div.input').hide();\n",
       "        } else {\n",
       "        $('div.input').show();\n",
       "        }\n",
       "        code_show = !code_show\n",
       "    } \n",
       "    $( document ).ready(code_toggle);\n",
       "</script>\n",
       "The raw code for this IPython notebook is by default hidden for easier reading.\n",
       "To toggle on/off the raw code, click <a href=\"javascript:code_toggle()\">here</a>.\n"
      ],
      "text/plain": [
       "<IPython.core.display.HTML object>"
      ]
     },
     "metadata": {},
     "output_type": "display_data"
    }
   ],
   "source": [
    "%%html\n",
    "<script>\n",
    "    code_show=true; \n",
    "    function code_toggle() {\n",
    "        if (code_show){\n",
    "        $('div.input').hide();\n",
    "        } else {\n",
    "        $('div.input').show();\n",
    "        }\n",
    "        code_show = !code_show\n",
    "    } \n",
    "    $( document ).ready(code_toggle);\n",
    "</script>\n",
    "The raw code for this IPython notebook is by default hidden for easier reading.\n",
    "To toggle on/off the raw code, click <a href=\"javascript:code_toggle()\">here</a>."
   ]
  },
  {
   "cell_type": "markdown",
   "metadata": {},
   "source": [
    "## Code"
   ]
  },
  {
   "cell_type": "code",
   "execution_count": 4,
   "metadata": {},
   "outputs": [],
   "source": [
    "import numpy as np\n",
    "from matplotlib import patches, patheffects\n",
    "import matplotlib.pyplot as plt\n",
    "from matplotlib.lines import Line2D\n",
    "from matplotlib.figure import Figure\n",
    "from operator import le as less_eq\n",
    "from itertools import tee"
   ]
  },
  {
   "cell_type": "code",
   "execution_count": 5,
   "metadata": {},
   "outputs": [],
   "source": [
    "def adj_pairs(it):\n",
    "    itr = iter(it)\n",
    "    a = next(itr)\n",
    "    for b in itr:\n",
    "        yield a,b\n",
    "        a = b"
   ]
  },
  {
   "cell_type": "code",
   "execution_count": 6,
   "metadata": {},
   "outputs": [],
   "source": [
    "def issorted(it, compare = less_eq):\n",
    "    a,b = tee(it)\n",
    "    return all(map(compare,a,b))"
   ]
  },
  {
   "cell_type": "code",
   "execution_count": 7,
   "metadata": {},
   "outputs": [],
   "source": [
    "def rev_enumerate(seq):\n",
    "    return zip(range(len(seq)-1,-1,-1),reversed(seq))"
   ]
  },
  {
   "cell_type": "code",
   "execution_count": 8,
   "metadata": {},
   "outputs": [],
   "source": [
    "class BondingMap(object):\n",
    "    def __init__(self, domains, ms, bs):\n",
    "        \"\"\"\n",
    "        domains: Domain partition for the piecewise defined function.  \n",
    "        \n",
    "        ms: Slopes for each subdomain.\n",
    "\n",
    "        bs: Constants for each subdomain.\n",
    "        \"\"\"\n",
    "        assert issorted(domains) and domains[0] == 0.0 and domains[-1] == 1.0, \\\n",
    "            \"Invalid domain partition.  Must begin with 0.0 and end with 1.0 and be in increasing order.\"\n",
    "        assert len(domains)-1 == len(ms) == len(bs), \\\n",
    "            \"Parameter and partition lengths don't match.\"\n",
    "            \n",
    "        self.domains = domains\n",
    "        \n",
    "        self.starts = np.array(domains[:-1])[...,None]\n",
    "        self.ends = np.array(domains[1:])[...,None]\n",
    "        self.ms,self.bs = np.array(ms)[...,None],np.array(bs)[...,None]\n",
    "    \n",
    "    def __call__(self,x):\n",
    "        \"\"\" Apply the bonding map to x. \"\"\"\n",
    "        return np.choose(\n",
    "            np.argmax(\n",
    "#                 ((self.starts <= x) & (x < self.ends)) | (x == self.ends * (2*np.eye(*self.ends.shape)[::-1] - np.ones_like(self.ends))),\n",
    "                (self.starts <= x) & (x <= self.ends),\n",
    "                axis=0\n",
    "            ),\n",
    "            x*self.ms+self.bs,\n",
    "        )\n"
   ]
  },
  {
   "cell_type": "code",
   "execution_count": 9,
   "metadata": {},
   "outputs": [],
   "source": [
    "class Limit(object):\n",
    "    \"\"\"\n",
    "    Limit class for visualization of inverse limits on the Hilbert cube.  Candidates\n",
    "    must be obtainable using finitely piecewise linear bonding maps.\n",
    "    \"\"\"\n",
    "    \n",
    "    # Some constants defining different scaling rates.\n",
    "    GEOMETRIC = 'geometric'\n",
    "    HARMONIC = 'harmonic'\n",
    "    \n",
    "    def __init__(self, fs, repeats=True, iterations=5, coord_met_dec=HARMONIC):\n",
    "        \"\"\"\n",
    "        fs: A list of BondingMap objects representing the bonding maps of the limit.\n",
    "        \n",
    "        repeats: Flag indicating whether a single bonding map should be used repeatedly.\n",
    "        If false, it is assumed all the bonding maps were given individually.\n",
    "        \n",
    "        iterations: In the case repeats == True, the number of iterations to apply to\n",
    "        the given bonding maps.  If several bonding maps were given, they will all be \n",
    "        repeated <iterations> many times.  If repeats == False, this is ignored.\n",
    "        \n",
    "        coord_met_dec: Specifies the rate at which the Hilbert cube metric evaluation\n",
    "        decreases as coordinates increase.  There's not a whole lot of qualitative or\n",
    "        computational complexity difference between options, but the plots do change\n",
    "        noticeably.  I've made harmonic the default because I think the plots are more\n",
    "        clear.\n",
    "        \"\"\"\n",
    "        for f in fs:\n",
    "            assert isinstance(f,BondingMap)\n",
    "        \n",
    "        if coord_met_dec == Limit.GEOMETRIC:\n",
    "            self.scale_f = lambda i:2**i\n",
    "        elif coord_met_dec == Limit.HARMONIC:\n",
    "            self.scale_f = lambda i:i+1\n",
    "        else: \n",
    "            raise NameError(f\"Scaling rate {coord_met_dec} is not recognized.\")\n",
    "        \n",
    "        self.fs = fs*iterations if repeats else fs\n",
    "        self.n = n = len(self.fs) # length of the sequence for our approximation.\n",
    "        \n",
    "        # We need a pair of orthogonal vectors that will give us a 2-d view of\n",
    "        # n+1 space.  Some views are better than others, but I chose a view\n",
    "        # that keeps information about all coordinates and favors the first.\n",
    "        # The criteria I used are:\n",
    "        # - all coordinates of both vectors are non-zero\n",
    "        # - orthanogality, i.e. np.dot(p,q) == 0 (up to rounding error)\n",
    "        # - leading coordinate of each has largest magnitude (except in the edge case n=1).\n",
    "        self.p = np.ones(n+1)\n",
    "        self.p[0] = 2.0\n",
    "        self.p[-1] = -1.0\n",
    "        \n",
    "        self.q = (3.0/(n+4.0)) * np.ones(n+1)\n",
    "        self.q[0] = (-2.0 * n - 2.0)/(n + 4.0)\n",
    "        self.q[1] = (n + 7.0)/(n + 4.0)\n",
    "        self.q[-1] = -self.q[-1]\n",
    "        \n",
    "        # Getting the vectors can be computationally intensive, so we'll\n",
    "        # generate them when make_vects() is called.\n",
    "        self.vects_computed = False\n",
    "        self.vects = None\n",
    "    \n",
    "    def make_vects(self):\n",
    "        \"\"\"\n",
    "        Generate the vectors needed to plot the visualization.\n",
    "        \"\"\"\n",
    "        partition = self.fs[0].domains\n",
    "        for f in self.fs[1:]:\n",
    "            inv_images = (partition - f.bs) / f.ms\n",
    "            partition = np.unique(\n",
    "                np.concatenate([\n",
    "                    inv_images[(f.starts <= inv_images) & (inv_images <= f.ends)],\n",
    "                    f.starts.flatten(),\n",
    "                    f.ends.flatten()\n",
    "                ])\n",
    "                \n",
    "            )\n",
    "        \n",
    "        # The fruit of our labor is a domain partition in every coordinate that is granular enough\n",
    "        # so that each domain in the i+1st coordinate maps into exactly one domain in the ith \n",
    "        # coordinate.  That means if we map any given domain in the last coordinate up all the way\n",
    "        # to the leading coordinate, the image in n dimensional space is a line segment.  This in \n",
    "        # turn means we can plot it by just joining adjacent vertices -- vertices which are \n",
    "        # obtained, in order, by mapping each dividing point in the nth coordinate in numerical order\n",
    "        # successively through every coordinate using the appropriate bonding map to obtain the \n",
    "        # coordinates of a point in n+1-space.  So that's what we'll do, and store them in vects.\n",
    "        vects_lst = [partition]\n",
    "        v = partition\n",
    "        for i,f in rev_enumerate(self.fs):\n",
    "            vects_lst.append(f(vects_lst[-1]))\n",
    "        vects = np.stack(vects_lst[::-1], axis=-1)\n",
    "        for i in range(vects.shape[1]):\n",
    "            vects[:,i] /= self.scale_f(i)\n",
    "\n",
    "            # For our inverse limit to turn out looking right, we need to scale the coordinates to \n",
    "            # enforce the Hilbert cube metric (the scale of the ith coordinate decreases with i).  \n",
    "            # A full explanation is outside the scope of this demonstration, but \n",
    "            # https://en.wikipedia.org/wiki/Hilbert_cube provides a brief synopsis.  Note we scale \n",
    "            # *after* we've hit the value with the bonding map, since the bonding maps are defined \n",
    "            # on the unscaled domain.\n",
    "        \n",
    "        # Note these aren't points to use for plots, they are in a high dimensional space.\n",
    "        self.vects_computed = True\n",
    "        self.vects = np.asarray(vects)\n",
    "        \n",
    "        # Project the points into 2-d space using the vectors we created in __init__.\n",
    "        self.xs = np.dot(self.vects, self.p)\n",
    "        self.ys = np.dot(self.vects, self.q)\n",
    "        \n",
    "        # Now put it all together as a sequence of ordered pairs and store it in the class.\n",
    "        self.vs = np.stack([self.xs,self.ys],-1)\n",
    "        self.partition = partition\n",
    "        return self.vs\n"
   ]
  },
  {
   "cell_type": "code",
   "execution_count": 10,
   "metadata": {},
   "outputs": [],
   "source": [
    "dragging = None\n",
    "\n",
    "def onclick(event):\n",
    "    global dragging\n",
    "    for i,pt in enumerate(point_list):\n",
    "        if dragging is not None: return\n",
    "        contains, attrd = pt.contains(event)\n",
    "        if not contains: continue\n",
    "        dragging = (i,pt)\n",
    "\n",
    "def onmove(event):\n",
    "    if dragging is not None:\n",
    "        if not ((0. <= event.xdata <= 1.) and (0. <= event.ydata <= 1.)): return\n",
    "        i,pt = dragging\n",
    "        if 0 < i < len(point_list) - 1:\n",
    "            pt.center = (event.xdata, event.ydata)\n",
    "        else:\n",
    "            pt.center = (pt.center[0], event.ydata)\n",
    "        cur_xdata = line.get_xdata()\n",
    "        cur_ydata = line.get_ydata()\n",
    "        line.set_xdata(cur_xdata[:i] + [pt.center[0]] + cur_xdata[i+1:])\n",
    "        line.set_ydata(cur_ydata[:i] + [pt.center[1]] + cur_ydata[i+1:])\n",
    "        update_limplot()\n",
    "\n",
    "def update_limplot():\n",
    "    cur_xdata = line.get_xdata()\n",
    "    cur_ydata = line.get_ydata()\n",
    "\n",
    "    y0s = np.array(cur_ydata[:-1])\n",
    "    y1s = np.array(cur_ydata[1:])\n",
    "\n",
    "    x0s = np.array(cur_xdata[:-1])\n",
    "    x1s = np.array(cur_xdata[1:])\n",
    "\n",
    "    ms = (y1s - y0s)/(x1s - x0s)\n",
    "    bm = BondingMap(\n",
    "        cur_xdata, # domains\n",
    "        ms, # ms\n",
    "        -ms * x0s + y0s, # bs\n",
    "    )\n",
    "    lim = Limit([bm], iterations = 10)\n",
    "    x,y = lim.make_vects().T\n",
    "    invlim.set_xdata(x)\n",
    "    invlim.set_ydata(y)\n",
    "    lim_plot.set_xlim(x.min(), x.max())\n",
    "    lim_plot.set_ylim(y.min(), y.max())\n",
    "    \n",
    "\n",
    "def onrelease(event):\n",
    "    global dragging\n",
    "    dragging = None"
   ]
  },
  {
   "cell_type": "markdown",
   "metadata": {},
   "source": [
    "## Interactive"
   ]
  },
  {
   "cell_type": "code",
   "execution_count": null,
   "metadata": {
    "slideshow": {
     "slide_type": "-"
    }
   },
   "outputs": [],
   "source": [
    "fig = plt.figure(figsize=(8,4), num='Interactive feature map')\n",
    "\n",
    "bmap_plot = fig.add_subplot(1, 2, 1)\n",
    "lim_plot = fig.add_subplot(1, 2, 2)\n",
    "\n",
    "bmap_plot.set_xlim(0.,1.)\n",
    "bmap_plot.set_ylim(0.,1.)\n",
    "\n",
    "point = patches.Circle((0., 0.), radius=0.03, fc='r', alpha=0.75, edgecolor='r', zorder=2)\n",
    "point2 = patches.Circle((2/3, 1.), radius=0.03, fc='b', alpha=0.75, edgecolor='b', zorder=2)\n",
    "point3 = patches.Circle((1., 2/3), radius=0.03, fc='g', alpha=0.75, edgecolor='g', zorder=2)\n",
    "\n",
    "point_list = [point, point2, point3]\n",
    "\n",
    "line = Line2D([pt.center[0] for pt in point_list], [pt.center[1] for pt in point_list], zorder=1)\n",
    "\n",
    "bmap_plot.add_line(line)\n",
    "bmap_plot.add_patch(point)\n",
    "bmap_plot.add_patch(point2)\n",
    "bmap_plot.add_patch(point3)\n",
    "\n",
    "invlim = Line2D([], [])\n",
    "\n",
    "lim_plot.add_line(invlim)\n",
    "\n",
    "cid = fig.canvas.mpl_connect('button_press_event', onclick)\n",
    "cid2 = fig.canvas.mpl_connect('button_release_event', onrelease)\n",
    "cid3 = fig.canvas.mpl_connect('motion_notify_event', onmove)\n",
    "\n",
    "update_limplot()"
   ]
  },
  {
   "cell_type": "code",
   "execution_count": null,
   "metadata": {},
   "outputs": [],
   "source": []
  }
 ],
 "metadata": {
  "celltoolbar": "Tags",
  "kernelspec": {
   "display_name": "inv-limits-venv",
   "language": "python",
   "name": "inv-limits-venv"
  },
  "language_info": {
   "codemirror_mode": {
    "name": "ipython",
    "version": 3
   },
   "file_extension": ".py",
   "mimetype": "text/x-python",
   "name": "python",
   "nbconvert_exporter": "python",
   "pygments_lexer": "ipython3",
   "version": "3.8.3"
  },
  "toc": {
   "base_numbering": 1,
   "nav_menu": {},
   "number_sections": true,
   "sideBar": true,
   "skip_h1_title": false,
   "title_cell": "Table of Contents",
   "title_sidebar": "Contents",
   "toc_cell": false,
   "toc_position": {},
   "toc_section_display": true,
   "toc_window_display": false
  }
 },
 "nbformat": 4,
 "nbformat_minor": 4
}
